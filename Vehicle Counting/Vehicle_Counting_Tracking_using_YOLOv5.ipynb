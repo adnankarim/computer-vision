{
  "nbformat": 4,
  "nbformat_minor": 0,
  "metadata": {
    "colab": {
      "provenance": [],
      "collapsed_sections": [],
      "machine_shape": "hm"
    },
    "kernelspec": {
      "display_name": "Python 3",
      "name": "python3"
    },
    "accelerator": "GPU",
    "gpuClass": "standard"
  },
  "cells": [
    {
      "cell_type": "code",
      "metadata": {
        "colab": {
          "base_uri": "https://localhost:8080/"
        },
        "id": "JlsoemuQ4amH",
        "outputId": "269e928b-51bb-4623-a540-7ee6090fde41"
      },
      "source": [
        "!nvidia-smi"
      ],
      "execution_count": 1,
      "outputs": [
        {
          "output_type": "stream",
          "name": "stdout",
          "text": [
            "Mon Nov  7 12:26:29 2022       \n",
            "+-----------------------------------------------------------------------------+\n",
            "| NVIDIA-SMI 460.32.03    Driver Version: 460.32.03    CUDA Version: 11.2     |\n",
            "|-------------------------------+----------------------+----------------------+\n",
            "| GPU  Name        Persistence-M| Bus-Id        Disp.A | Volatile Uncorr. ECC |\n",
            "| Fan  Temp  Perf  Pwr:Usage/Cap|         Memory-Usage | GPU-Util  Compute M. |\n",
            "|                               |                      |               MIG M. |\n",
            "|===============================+======================+======================|\n",
            "|   0  Tesla T4            Off  | 00000000:00:04.0 Off |                    0 |\n",
            "| N/A   52C    P8     9W /  70W |      0MiB / 15109MiB |      0%      Default |\n",
            "|                               |                      |                  N/A |\n",
            "+-------------------------------+----------------------+----------------------+\n",
            "                                                                               \n",
            "+-----------------------------------------------------------------------------+\n",
            "| Processes:                                                                  |\n",
            "|  GPU   GI   CI        PID   Type   Process name                  GPU Memory |\n",
            "|        ID   ID                                                   Usage      |\n",
            "|=============================================================================|\n",
            "|  No running processes found                                                 |\n",
            "+-----------------------------------------------------------------------------+\n"
          ]
        }
      ]
    },
    {
      "cell_type": "markdown",
      "metadata": {
        "id": "6x3MtL6h-2pS"
      },
      "source": [
        "# Clone repository"
      ]
    },
    {
      "cell_type": "code",
      "metadata": {
        "colab": {
          "base_uri": "https://localhost:8080/"
        },
        "id": "7rxoLVDnvq0A",
        "outputId": "a6577451-cf7e-44cd-9034-be874bb94b73"
      },
      "source": [
        "!git clone https://github.com/kaylode/vehicle-counting.git main\n",
        "%cd main"
      ],
      "execution_count": 2,
      "outputs": [
        {
          "output_type": "stream",
          "name": "stdout",
          "text": [
            "Cloning into 'main'...\n",
            "remote: Enumerating objects: 1033, done.\u001b[K\n",
            "remote: Counting objects: 100% (41/41), done.\u001b[K\n",
            "remote: Compressing objects: 100% (22/22), done.\u001b[K\n",
            "remote: Total 1033 (delta 22), reused 22 (delta 19), pack-reused 992\u001b[K\n",
            "Receiving objects: 100% (1033/1033), 263.56 MiB | 17.48 MiB/s, done.\n",
            "Resolving deltas: 100% (512/512), done.\n",
            "/content/main\n"
          ]
        }
      ]
    },
    {
      "cell_type": "code",
      "metadata": {
        "id": "vOt2YoCLkD2S"
      },
      "source": [
        "%%capture\n",
        "!pip install -r requirements.txt"
      ],
      "execution_count": 3,
      "outputs": []
    },
    {
      "cell_type": "code",
      "source": [
        "!pip uninstall opencv-python-headless\n",
        "!pip install opencv-python-headless==4.1.2.30"
      ],
      "metadata": {
        "colab": {
          "base_uri": "https://localhost:8080/"
        },
        "id": "hNJUa_tsPrJO",
        "outputId": "16797ffa-85bb-42e3-df6d-4ad8a7406e12"
      },
      "execution_count": 4,
      "outputs": [
        {
          "output_type": "stream",
          "name": "stdout",
          "text": [
            "Found existing installation: opencv-python-headless 4.6.0.66\n",
            "Uninstalling opencv-python-headless-4.6.0.66:\n",
            "  Would remove:\n",
            "    /usr/local/lib/python3.7/dist-packages/cv2/*\n",
            "    /usr/local/lib/python3.7/dist-packages/opencv_python_headless-4.6.0.66.dist-info/*\n",
            "    /usr/local/lib/python3.7/dist-packages/opencv_python_headless.libs/libavcodec-5896f664.so.58.134.100\n",
            "    /usr/local/lib/python3.7/dist-packages/opencv_python_headless.libs/libavformat-8ef5c7db.so.58.76.100\n",
            "    /usr/local/lib/python3.7/dist-packages/opencv_python_headless.libs/libavutil-9c768859.so.56.70.100\n",
            "    /usr/local/lib/python3.7/dist-packages/opencv_python_headless.libs/libbz2-a273e504.so.1.0.6\n",
            "    /usr/local/lib/python3.7/dist-packages/opencv_python_headless.libs/libcrypto-d21001fc.so.1.1\n",
            "    /usr/local/lib/python3.7/dist-packages/opencv_python_headless.libs/libgfortran-91cc3cb1.so.3.0.0\n",
            "    /usr/local/lib/python3.7/dist-packages/opencv_python_headless.libs/libopenblas-r0-f650aae0.3.3.so\n",
            "    /usr/local/lib/python3.7/dist-packages/opencv_python_headless.libs/libpng16-57e5e0a0.so.16.37.0\n",
            "    /usr/local/lib/python3.7/dist-packages/opencv_python_headless.libs/libquadmath-96973f99.so.0.0.0\n",
            "    /usr/local/lib/python3.7/dist-packages/opencv_python_headless.libs/libssl-c8c53640.so.1.1\n",
            "    /usr/local/lib/python3.7/dist-packages/opencv_python_headless.libs/libswresample-99364a1c.so.3.9.100\n",
            "    /usr/local/lib/python3.7/dist-packages/opencv_python_headless.libs/libswscale-e6451464.so.5.9.100\n",
            "    /usr/local/lib/python3.7/dist-packages/opencv_python_headless.libs/libvpx-f22f1483.so.7.0.0\n",
            "  Would not remove (might be manually added):\n",
            "    /usr/local/lib/python3.7/dist-packages/cv2/qt/fonts/DejaVuSans-Bold.ttf\n",
            "    /usr/local/lib/python3.7/dist-packages/cv2/qt/fonts/DejaVuSans-BoldOblique.ttf\n",
            "    /usr/local/lib/python3.7/dist-packages/cv2/qt/fonts/DejaVuSans-ExtraLight.ttf\n",
            "    /usr/local/lib/python3.7/dist-packages/cv2/qt/fonts/DejaVuSans-Oblique.ttf\n",
            "    /usr/local/lib/python3.7/dist-packages/cv2/qt/fonts/DejaVuSans.ttf\n",
            "    /usr/local/lib/python3.7/dist-packages/cv2/qt/fonts/DejaVuSansCondensed-Bold.ttf\n",
            "    /usr/local/lib/python3.7/dist-packages/cv2/qt/fonts/DejaVuSansCondensed-BoldOblique.ttf\n",
            "    /usr/local/lib/python3.7/dist-packages/cv2/qt/fonts/DejaVuSansCondensed-Oblique.ttf\n",
            "    /usr/local/lib/python3.7/dist-packages/cv2/qt/fonts/DejaVuSansCondensed.ttf\n",
            "    /usr/local/lib/python3.7/dist-packages/cv2/qt/plugins/platforms/libqxcb.so\n",
            "Proceed (y/n)? y\n",
            "  Successfully uninstalled opencv-python-headless-4.6.0.66\n",
            "Looking in indexes: https://pypi.org/simple, https://us-python.pkg.dev/colab-wheels/public/simple/\n",
            "Collecting opencv-python-headless==4.1.2.30\n",
            "  Downloading opencv_python_headless-4.1.2.30-cp37-cp37m-manylinux1_x86_64.whl (21.8 MB)\n",
            "\u001b[K     |████████████████████████████████| 21.8 MB 1.2 MB/s \n",
            "\u001b[?25hRequirement already satisfied: numpy>=1.14.5 in /usr/local/lib/python3.7/dist-packages (from opencv-python-headless==4.1.2.30) (1.21.6)\n",
            "Installing collected packages: opencv-python-headless\n",
            "Successfully installed opencv-python-headless-4.1.2.30\n"
          ]
        }
      ]
    },
    {
      "cell_type": "code",
      "metadata": {
        "id": "GgOMjjzrkHhO",
        "colab": {
          "base_uri": "https://localhost:8080/"
        },
        "outputId": "695380cc-ffff-4847-9c71-97fe94cb3c03"
      },
      "source": [
        "!git reset --hard HEAD\n",
        "!git pull"
      ],
      "execution_count": 5,
      "outputs": [
        {
          "output_type": "stream",
          "name": "stdout",
          "text": [
            "HEAD is now at 5007a54 Merge pull request #17 from kaylode/fix\n",
            "Already up to date.\n"
          ]
        }
      ]
    },
    {
      "cell_type": "markdown",
      "metadata": {
        "id": "KWKqL6ae-71g"
      },
      "source": [
        "# Copy video file\n",
        "For input data, you need 2 file:\n",
        "- Video\n",
        "- Directions and Zone annotation file associated with the street in the video, have same name with the video\n"
      ]
    },
    {
      "cell_type": "markdown",
      "metadata": {
        "id": "y_-PbnLA_DB4"
      },
      "source": [
        "# Start inference\n",
        "Define these things before run:\n",
        "- Path to street annotation files in **configs/cam_configs.yaml**\n",
        "- Path to video file\n",
        "- Model's checkpoint"
      ]
    },
    {
      "cell_type": "code",
      "source": [
        "!gdown https://drive.google.com/uc?id=1-Y6H3QdRevfBKYDQxgRiR2CRinRVPt9O -O /content/yolov5s.pt"
      ],
      "metadata": {
        "colab": {
          "base_uri": "https://localhost:8080/"
        },
        "id": "TwazXGlv6YuH",
        "outputId": "3e298354-e23b-4eb3-b250-17afc7f56e52"
      },
      "execution_count": 6,
      "outputs": [
        {
          "output_type": "stream",
          "name": "stdout",
          "text": [
            "Traceback (most recent call last):\n",
            "  File \"/usr/local/bin/gdown\", line 8, in <module>\n",
            "    sys.exit(main())\n",
            "  File \"/usr/local/lib/python3.7/dist-packages/gdown/cli.py\", line 105, in main\n",
            "    use_cookies=not args.no_cookies,\n",
            "  File \"/usr/local/lib/python3.7/dist-packages/gdown/download.py\", line 114, in download\n",
            "    res = sess.get(url, headers=headers, stream=True)\n",
            "  File \"/usr/local/lib/python3.7/dist-packages/requests/sessions.py\", line 543, in get\n",
            "    return self.request('GET', url, **kwargs)\n",
            "  File \"/usr/local/lib/python3.7/dist-packages/requests/sessions.py\", line 516, in request\n",
            "    prep = self.prepare_request(req)\n",
            "  File \"/usr/local/lib/python3.7/dist-packages/requests/sessions.py\", line 459, in prepare_request\n",
            "    hooks=merge_hooks(request.hooks, self.hooks),\n",
            "  File \"/usr/local/lib/python3.7/dist-packages/requests/models.py\", line 314, in prepare\n",
            "    self.prepare_url(url, params)\n",
            "  File \"/usr/local/lib/python3.7/dist-packages/requests/models.py\", line 388, in prepare_url\n",
            "    raise MissingSchema(error)\n",
            "requests.exceptions.MissingSchema: Invalid URL '': No schema supplied. Perhaps you meant http://?\n"
          ]
        }
      ]
    },
    {
      "cell_type": "code",
      "metadata": {
        "id": "sgPQFocQ9FPi"
      },
      "source": [
        "!mkdir /content/results"
      ],
      "execution_count": 7,
      "outputs": []
    },
    {
      "cell_type": "code",
      "metadata": {
        "colab": {
          "base_uri": "https://localhost:8080/"
        },
        "id": "sf23nTT2xxT5",
        "outputId": "fc126c7e-9e67-4e71-b433-fcbbcbb3fcb4"
      },
      "source": [
        "%cd main\n",
        "!python run.py --input_path='/content/main/demo/sample/cam_04.mp4' \\\n",
        "              --output_path=\"/content/results\" \\\n",
        "              --weight=\"/content/yolov5s.pt\""
      ],
      "execution_count": 8,
      "outputs": [
        {
          "output_type": "stream",
          "name": "stdout",
          "text": [
            "[Errno 2] No such file or directory: 'main'\n",
            "/content/main\n",
            "##########   CONFIGURATION INFO   ##########\n",
            "model_name:\tyolov5s\n",
            "gpu_devices:\t0\n",
            "num_epochs:\t300\n",
            "batch_size:\t16\n",
            "num_workers:\t2\n",
            "min_iou:\t0.45\n",
            "min_conf:\t0.25\n",
            "max_det:\t300\n",
            "image_size:\t[640, 640]\n",
            "keep_ratio:\tTrue\n",
            "\n",
            "\n",
            "Nubmer of gpus: 1\n",
            "CUDA:0 (Tesla T4, 15109.75MB)\n",
            "\n",
            "/usr/local/lib/python3.7/dist-packages/torch/hub.py:267: UserWarning: You are about to download and run code from an untrusted repository. In a future release, this won't be allowed. To add the repository to your trusted list, change the command to {calling_fn}(..., trust_repo=False) and a command prompt will appear asking for an explicit confirmation of trust, or load(..., trust_repo=True), which will assume that the prompt is to be answered with 'yes'. You can also use load(..., trust_repo='check') which will only prompt for confirmation if the repo is not already trusted. This will eventually be the default behaviour\n",
            "  \"You are about to download and run code from an untrusted repository. In a future release, this won't \"\n",
            "Downloading: \"https://github.com/ultralytics/yolov5/zipball/master\" to /root/.cache/torch/hub/master.zip\n",
            "\u001b[31m\u001b[1mrequirements:\u001b[0m YOLOv5 requirement \"ipython\" not found, attempting AutoUpdate...\n",
            "Looking in indexes: https://pypi.org/simple, https://us-python.pkg.dev/colab-wheels/public/simple/\n",
            "Requirement already satisfied: ipython in /usr/local/lib/python3.7/dist-packages (7.9.0)\n",
            "Requirement already satisfied: setuptools>=18.5 in /usr/local/lib/python3.7/dist-packages (from ipython) (57.4.0)\n",
            "Requirement already satisfied: pexpect in /usr/local/lib/python3.7/dist-packages (from ipython) (4.8.0)\n",
            "Requirement already satisfied: decorator in /usr/local/lib/python3.7/dist-packages (from ipython) (4.4.2)\n",
            "Requirement already satisfied: backcall in /usr/local/lib/python3.7/dist-packages (from ipython) (0.2.0)\n",
            "Collecting jedi>=0.10\n",
            "  Downloading jedi-0.18.1-py2.py3-none-any.whl (1.6 MB)\n",
            "Requirement already satisfied: traitlets>=4.2 in /usr/local/lib/python3.7/dist-packages (from ipython) (5.1.1)\n",
            "Requirement already satisfied: pygments in /usr/local/lib/python3.7/dist-packages (from ipython) (2.6.1)\n",
            "Requirement already satisfied: pickleshare in /usr/local/lib/python3.7/dist-packages (from ipython) (0.7.5)\n",
            "Requirement already satisfied: prompt-toolkit<2.1.0,>=2.0.0 in /usr/local/lib/python3.7/dist-packages (from ipython) (2.0.10)\n",
            "Requirement already satisfied: parso<0.9.0,>=0.8.0 in /usr/local/lib/python3.7/dist-packages (from jedi>=0.10->ipython) (0.8.3)\n",
            "Requirement already satisfied: six>=1.9.0 in /usr/local/lib/python3.7/dist-packages (from prompt-toolkit<2.1.0,>=2.0.0->ipython) (1.15.0)\n",
            "Requirement already satisfied: wcwidth in /usr/local/lib/python3.7/dist-packages (from prompt-toolkit<2.1.0,>=2.0.0->ipython) (0.2.5)\n",
            "Requirement already satisfied: ptyprocess>=0.5 in /usr/local/lib/python3.7/dist-packages (from pexpect->ipython) (0.7.0)\n",
            "Installing collected packages: jedi\n",
            "Successfully installed jedi-0.18.1\n",
            "\n",
            "\u001b[31m\u001b[1mrequirements:\u001b[0m 1 package updated per /root/.cache/torch/hub/ultralytics_yolov5_master/requirements.txt\n",
            "\u001b[31m\u001b[1mrequirements:\u001b[0m ⚠️ \u001b[1mRestart runtime or rerun command for updates to take effect\u001b[0m\n",
            "\n",
            "YOLOv5 🚀 2022-11-7 Python-3.7.15 torch-1.12.1+cu113 CUDA:0 (Tesla T4, 15110MiB)\n",
            "\n",
            "Downloading https://github.com/ultralytics/yolov5/releases/download/v6.2/yolov5s.pt to /content/yolov5s.pt...\n",
            "100% 14.1M/14.1M [00:00<00:00, 277MB/s]\n",
            "\n",
            "Fusing layers... \n",
            "YOLOv5s summary: 213 layers, 7225885 parameters, 0 gradients\n",
            "Adding AutoShape... \n",
            "100% 885/885 [01:45<00:00,  8.41it/s]\n",
            "/content/main/utilities/counting/bb_polygon.py:124: RuntimeWarning: invalid value encountered in double_scalars\n",
            "  return tmp1/tmp2\n",
            "100% 885/885 [00:15<00:00, 57.46it/s]\n"
          ]
        }
      ]
    },
    {
      "cell_type": "markdown",
      "metadata": {
        "id": "_rBIGBCv_JLw"
      },
      "source": [
        "# Tracking results\n",
        "There will be two result files:\n",
        "- A **.csv** contains tracking result in every frames\n",
        "- A **.mp4** plots the results from .csv to original video"
      ]
    },
    {
      "cell_type": "code",
      "metadata": {
        "colab": {
          "base_uri": "https://localhost:8080/",
          "height": 206
        },
        "id": "-KyrLRpd-H4o",
        "outputId": "80630418-2f96-4a14-e371-68a089c47b5a"
      },
      "source": [
        "import pandas as pd\n",
        "pd.read_csv('/content/results/cam_04.csv').head()"
      ],
      "execution_count": 9,
      "outputs": [
        {
          "output_type": "execute_result",
          "data": {
            "text/plain": [
              "   track_id  frame_id                   box            color  label  \\\n",
              "0         2         3  [856, 382, 883, 441]  (255, 255, 240)      0   \n",
              "1         2         4  [866, 378, 892, 434]  (255, 255, 240)      0   \n",
              "2         2         5  [869, 377, 894, 431]  (255, 255, 240)      0   \n",
              "3         2         6  [869, 376, 895, 431]  (255, 255, 240)      0   \n",
              "4         2         7  [872, 375, 897, 429]  (255, 255, 240)      0   \n",
              "\n",
              "   direction          fpoint          lpoint  fframe  lframe  \n",
              "0          1  (869.5, 411.5)  (955.0, 354.0)       3      31  \n",
              "1          1  (869.5, 411.5)  (955.0, 354.0)       3      31  \n",
              "2          1  (869.5, 411.5)  (955.0, 354.0)       3      31  \n",
              "3          1  (869.5, 411.5)  (955.0, 354.0)       3      31  \n",
              "4          1  (869.5, 411.5)  (955.0, 354.0)       3      31  "
            ],
            "text/html": [
              "\n",
              "  <div id=\"df-1d3b960e-b3b0-40d8-9f29-a11c750aa1ec\">\n",
              "    <div class=\"colab-df-container\">\n",
              "      <div>\n",
              "<style scoped>\n",
              "    .dataframe tbody tr th:only-of-type {\n",
              "        vertical-align: middle;\n",
              "    }\n",
              "\n",
              "    .dataframe tbody tr th {\n",
              "        vertical-align: top;\n",
              "    }\n",
              "\n",
              "    .dataframe thead th {\n",
              "        text-align: right;\n",
              "    }\n",
              "</style>\n",
              "<table border=\"1\" class=\"dataframe\">\n",
              "  <thead>\n",
              "    <tr style=\"text-align: right;\">\n",
              "      <th></th>\n",
              "      <th>track_id</th>\n",
              "      <th>frame_id</th>\n",
              "      <th>box</th>\n",
              "      <th>color</th>\n",
              "      <th>label</th>\n",
              "      <th>direction</th>\n",
              "      <th>fpoint</th>\n",
              "      <th>lpoint</th>\n",
              "      <th>fframe</th>\n",
              "      <th>lframe</th>\n",
              "    </tr>\n",
              "  </thead>\n",
              "  <tbody>\n",
              "    <tr>\n",
              "      <th>0</th>\n",
              "      <td>2</td>\n",
              "      <td>3</td>\n",
              "      <td>[856, 382, 883, 441]</td>\n",
              "      <td>(255, 255, 240)</td>\n",
              "      <td>0</td>\n",
              "      <td>1</td>\n",
              "      <td>(869.5, 411.5)</td>\n",
              "      <td>(955.0, 354.0)</td>\n",
              "      <td>3</td>\n",
              "      <td>31</td>\n",
              "    </tr>\n",
              "    <tr>\n",
              "      <th>1</th>\n",
              "      <td>2</td>\n",
              "      <td>4</td>\n",
              "      <td>[866, 378, 892, 434]</td>\n",
              "      <td>(255, 255, 240)</td>\n",
              "      <td>0</td>\n",
              "      <td>1</td>\n",
              "      <td>(869.5, 411.5)</td>\n",
              "      <td>(955.0, 354.0)</td>\n",
              "      <td>3</td>\n",
              "      <td>31</td>\n",
              "    </tr>\n",
              "    <tr>\n",
              "      <th>2</th>\n",
              "      <td>2</td>\n",
              "      <td>5</td>\n",
              "      <td>[869, 377, 894, 431]</td>\n",
              "      <td>(255, 255, 240)</td>\n",
              "      <td>0</td>\n",
              "      <td>1</td>\n",
              "      <td>(869.5, 411.5)</td>\n",
              "      <td>(955.0, 354.0)</td>\n",
              "      <td>3</td>\n",
              "      <td>31</td>\n",
              "    </tr>\n",
              "    <tr>\n",
              "      <th>3</th>\n",
              "      <td>2</td>\n",
              "      <td>6</td>\n",
              "      <td>[869, 376, 895, 431]</td>\n",
              "      <td>(255, 255, 240)</td>\n",
              "      <td>0</td>\n",
              "      <td>1</td>\n",
              "      <td>(869.5, 411.5)</td>\n",
              "      <td>(955.0, 354.0)</td>\n",
              "      <td>3</td>\n",
              "      <td>31</td>\n",
              "    </tr>\n",
              "    <tr>\n",
              "      <th>4</th>\n",
              "      <td>2</td>\n",
              "      <td>7</td>\n",
              "      <td>[872, 375, 897, 429]</td>\n",
              "      <td>(255, 255, 240)</td>\n",
              "      <td>0</td>\n",
              "      <td>1</td>\n",
              "      <td>(869.5, 411.5)</td>\n",
              "      <td>(955.0, 354.0)</td>\n",
              "      <td>3</td>\n",
              "      <td>31</td>\n",
              "    </tr>\n",
              "  </tbody>\n",
              "</table>\n",
              "</div>\n",
              "      <button class=\"colab-df-convert\" onclick=\"convertToInteractive('df-1d3b960e-b3b0-40d8-9f29-a11c750aa1ec')\"\n",
              "              title=\"Convert this dataframe to an interactive table.\"\n",
              "              style=\"display:none;\">\n",
              "        \n",
              "  <svg xmlns=\"http://www.w3.org/2000/svg\" height=\"24px\"viewBox=\"0 0 24 24\"\n",
              "       width=\"24px\">\n",
              "    <path d=\"M0 0h24v24H0V0z\" fill=\"none\"/>\n",
              "    <path d=\"M18.56 5.44l.94 2.06.94-2.06 2.06-.94-2.06-.94-.94-2.06-.94 2.06-2.06.94zm-11 1L8.5 8.5l.94-2.06 2.06-.94-2.06-.94L8.5 2.5l-.94 2.06-2.06.94zm10 10l.94 2.06.94-2.06 2.06-.94-2.06-.94-.94-2.06-.94 2.06-2.06.94z\"/><path d=\"M17.41 7.96l-1.37-1.37c-.4-.4-.92-.59-1.43-.59-.52 0-1.04.2-1.43.59L10.3 9.45l-7.72 7.72c-.78.78-.78 2.05 0 2.83L4 21.41c.39.39.9.59 1.41.59.51 0 1.02-.2 1.41-.59l7.78-7.78 2.81-2.81c.8-.78.8-2.07 0-2.86zM5.41 20L4 18.59l7.72-7.72 1.47 1.35L5.41 20z\"/>\n",
              "  </svg>\n",
              "      </button>\n",
              "      \n",
              "  <style>\n",
              "    .colab-df-container {\n",
              "      display:flex;\n",
              "      flex-wrap:wrap;\n",
              "      gap: 12px;\n",
              "    }\n",
              "\n",
              "    .colab-df-convert {\n",
              "      background-color: #E8F0FE;\n",
              "      border: none;\n",
              "      border-radius: 50%;\n",
              "      cursor: pointer;\n",
              "      display: none;\n",
              "      fill: #1967D2;\n",
              "      height: 32px;\n",
              "      padding: 0 0 0 0;\n",
              "      width: 32px;\n",
              "    }\n",
              "\n",
              "    .colab-df-convert:hover {\n",
              "      background-color: #E2EBFA;\n",
              "      box-shadow: 0px 1px 2px rgba(60, 64, 67, 0.3), 0px 1px 3px 1px rgba(60, 64, 67, 0.15);\n",
              "      fill: #174EA6;\n",
              "    }\n",
              "\n",
              "    [theme=dark] .colab-df-convert {\n",
              "      background-color: #3B4455;\n",
              "      fill: #D2E3FC;\n",
              "    }\n",
              "\n",
              "    [theme=dark] .colab-df-convert:hover {\n",
              "      background-color: #434B5C;\n",
              "      box-shadow: 0px 1px 3px 1px rgba(0, 0, 0, 0.15);\n",
              "      filter: drop-shadow(0px 1px 2px rgba(0, 0, 0, 0.3));\n",
              "      fill: #FFFFFF;\n",
              "    }\n",
              "  </style>\n",
              "\n",
              "      <script>\n",
              "        const buttonEl =\n",
              "          document.querySelector('#df-1d3b960e-b3b0-40d8-9f29-a11c750aa1ec button.colab-df-convert');\n",
              "        buttonEl.style.display =\n",
              "          google.colab.kernel.accessAllowed ? 'block' : 'none';\n",
              "\n",
              "        async function convertToInteractive(key) {\n",
              "          const element = document.querySelector('#df-1d3b960e-b3b0-40d8-9f29-a11c750aa1ec');\n",
              "          const dataTable =\n",
              "            await google.colab.kernel.invokeFunction('convertToInteractive',\n",
              "                                                     [key], {});\n",
              "          if (!dataTable) return;\n",
              "\n",
              "          const docLinkHtml = 'Like what you see? Visit the ' +\n",
              "            '<a target=\"_blank\" href=https://colab.research.google.com/notebooks/data_table.ipynb>data table notebook</a>'\n",
              "            + ' to learn more about interactive tables.';\n",
              "          element.innerHTML = '';\n",
              "          dataTable['output_type'] = 'display_data';\n",
              "          await google.colab.output.renderOutput(dataTable, element);\n",
              "          const docLink = document.createElement('div');\n",
              "          docLink.innerHTML = docLinkHtml;\n",
              "          element.appendChild(docLink);\n",
              "        }\n",
              "      </script>\n",
              "    </div>\n",
              "  </div>\n",
              "  "
            ]
          },
          "metadata": {},
          "execution_count": 9
        }
      ]
    },
    {
      "cell_type": "code",
      "source": [],
      "metadata": {
        "id": "tSAD0ACjFQPm"
      },
      "execution_count": null,
      "outputs": []
    }
  ]
}